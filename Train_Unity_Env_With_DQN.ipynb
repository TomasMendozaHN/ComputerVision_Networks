{
  "nbformat": 4,
  "nbformat_minor": 0,
  "metadata": {
    "colab": {
      "name": "Untitled",
      "provenance": [],
      "collapsed_sections": [],
      "authorship_tag": "ABX9TyPlIgUzVMlXLUUFYq5QP1UB",
      "include_colab_link": true
    },
    "kernelspec": {
      "name": "python3",
      "display_name": "Python 3"
    },
    "language_info": {
      "name": "python"
    }
  },
  "cells": [
    {
      "cell_type": "markdown",
      "metadata": {
        "id": "view-in-github",
        "colab_type": "text"
      },
      "source": [
        "<a href=\"https://colab.research.google.com/github/TomasMendozaHN/ComputerVision_Networks/blob/master/Train_Unity_Env_With_DQN.ipynb\" target=\"_parent\"><img src=\"https://colab.research.google.com/assets/colab-badge.svg\" alt=\"Open In Colab\"/></a>"
      ]
    },
    {
      "cell_type": "markdown",
      "source": [
        "# Install or Import MlAgents 10"
      ],
      "metadata": {
        "id": "JsK0YUcbe18h"
      }
    },
    {
      "cell_type": "code",
      "source": [
        "try:\n",
        "  import mlagents\n",
        "  print(\"ml-agents already installed\")\n",
        "except ImportError:\n",
        "  !pip install -q mlagents==0.22.0\n",
        "  print(\"Installed ml-agents\")"
      ],
      "metadata": {
        "colab": {
          "base_uri": "https://localhost:8080/"
        },
        "id": "G_wp4J82e4dG",
        "outputId": "ec6241f6-0206-475b-9037-7864fec4392f"
      },
      "execution_count": 4,
      "outputs": [
        {
          "output_type": "stream",
          "name": "stdout",
          "text": [
            "ml-agents already installed\n"
          ]
        }
      ]
    },
    {
      "cell_type": "markdown",
      "source": [
        "The Actios are divided in two branches : \n",
        "\n",
        "-----------\n",
        "\n",
        " - Do not move\n",
        " - Move up\n",
        " - Move down\n",
        "\n",
        "-----------\n",
        " - Do not move\n",
        " - Move right\n",
        " - Move left"
      ],
      "metadata": {
        "id": "QiWn24aPgIEX"
      }
    },
    {
      "cell_type": "markdown",
      "source": [
        "# Define QNetwork"
      ],
      "metadata": {
        "id": "PAYtiMbggs_Y"
      }
    },
    {
      "cell_type": "code",
      "source": [
        "import torch\n",
        "from typing import Tuple\n",
        "from math import floor\n",
        "\n",
        "\n",
        "class DQN(nn.Module):\n",
        "    def __init__(self, ):\n",
        "        super(Net, self).__init__()\n",
        "        self.layer1 = nn.Linear(N_STATES, 50)\n",
        "        self.layer1.weight.data.normal_(0, 0.2)\n",
        "        self.layer2 = nn.Linear(50, 25)\n",
        "        self.layer2.weight.data.normal_(0, 0.2)\n",
        "        self.layer3 = nn.Linear(25, 20)\n",
        "        self.layer3.weight.data.normal_(0, 0.2)\n",
        "        self.out = nn.Linear(20, N_ACTIONS)\n",
        "        self.out.weight.data.normal_(0, 0.2)\n",
        "\n",
        "    def forward(self, x):\n",
        "        x = torch.sigmoid(self.layer1(x))\n",
        "        x = F.relu(self.layer2(x))\n",
        "        x = F.relu(self.layer3(x))\n",
        "        x = self.out(x)\n",
        "        return F.softmax(x, dim=1)"
      ],
      "metadata": {
        "id": "Wz0n8c_vf_F4"
      },
      "execution_count": null,
      "outputs": []
    }
  ]
}